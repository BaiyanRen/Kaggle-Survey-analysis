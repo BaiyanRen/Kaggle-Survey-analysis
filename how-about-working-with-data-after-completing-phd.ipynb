{
 "cells": [
  {
   "cell_type": "markdown",
   "metadata": {
    "slideshow": {
     "slide_type": "slide"
    }
   },
   "source": [
    "## How about being a self-taught Data Scientist after completing the Doctoral degree?\n",
    "\n",
    "### Table of Contents\n",
    "\n",
    "<ul>\n",
    "    <li><a href='#intro'>Introduction</a></li>\n",
    "    <li><a href='#wrangle'>Data Wrangling</a></li>\n",
    "    <li><a href='#eda'>Exploratory Data Analysis</a></li>\n",
    "    <li><a href='#conclusion'>Conclusion</a></li>\n",
    "</ul>"
   ]
  },
  {
   "cell_type": "markdown",
   "metadata": {
    "slideshow": {
     "slide_type": "slide"
    }
   },
   "source": [
    "<a id='intro'></a>\n",
    "## Introduction\n",
    "\n",
    "Hi there! I am a neuroscience graduate student studying data science by myself. I plan to be a data scientist after graduation. Before that, I'd like to make an exploration on my future career and colleagues through this survey.\n",
    "\n",
    "[Data science](https://en.wikipedia.org/wiki/Data_science#:~:text=Data%20science%20is%20a%20%22concept,domain%20knowledge%20and%20information%20science.), a inter-disciplinary field, is challenging yet attractive for people with different background. The Master's degree in computer science or statistics teaches knowledge and skills sufficient to step into the field of data science. However, it's never too late to start anything! There are considerable amount of DS practitioners have the Doctoral degree completed. The reasons of why pursuing the higher degree in related majors, or switching the career after acquiring the Doctoral degree in un-related majors, are not hard to understand. However, whether or not having a Doctoral degree affects data handling ability, employment, and salary, requires further analysis.\n",
    "\n",
    "I'll start the analysis from following aspects:\n",
    "\n",
    "<ul>\n",
    "    <li><a href='#prop'>Proportion of practitioners with Doctoral degree</a></li>\n",
    "    <li><a href='#gender'>Gender</a></li>\n",
    "    <li><a href='#age'>Age and experience</a></li>\n",
    "    <li><a href='#profession'>Profession</a></li>\n",
    "    <li><a href='#salary'>Salary</a></li>\n",
    "    <li><a href='#q23'>Important roles at work</a></li>\n",
    "</ul>\n"
   ]
  },
  {
   "cell_type": "markdown",
   "metadata": {
    "slideshow": {
     "slide_type": "skip"
    }
   },
   "source": [
    "I'm constantly updating this notebook. If you have any questions, comments and suggestions, please feel free to leave your comments. :)"
   ]
  },
  {
   "cell_type": "markdown",
   "metadata": {
    "slideshow": {
     "slide_type": "slide"
    }
   },
   "source": [
    "<a id='#wrangle'></a>\n",
    "## Data Wrangling"
   ]
  },
  {
   "cell_type": "code",
   "execution_count": 1,
   "metadata": {
    "_kg_hide-input": true,
    "slideshow": {
     "slide_type": "notes"
    }
   },
   "outputs": [],
   "source": [
    "# import packages\n",
    "## DataFrame\n",
    "import numpy as np\n",
    "import pandas as pd\n",
    "\n",
    "## Visualization\n",
    "import matplotlib.pyplot as plt\n",
    "import seaborn as sns"
   ]
  },
  {
   "cell_type": "code",
   "execution_count": 2,
   "metadata": {
    "slideshow": {
     "slide_type": "skip"
    }
   },
   "outputs": [],
   "source": [
    "#plt.rcParams.update(plt.rcParamsDefault)"
   ]
  },
  {
   "cell_type": "code",
   "execution_count": 3,
   "metadata": {
    "_kg_hide-input": true,
    "_kg_hide-output": true,
    "slideshow": {
     "slide_type": "skip"
    }
   },
   "outputs": [
    {
     "data": {
      "application/vnd.jupyter.widget-view+json": {
       "model_id": "8a7a92308e0340598f7fa0788e6716b6",
       "version_major": 2,
       "version_minor": 0
      },
      "text/plain": [
       "interactive(children=(IntSlider(value=9, description='n_colors', max=16, min=2), FloatSlider(value=0.0, descri…"
      ]
     },
     "metadata": {},
     "output_type": "display_data"
    },
    {
     "data": {
      "text/plain": [
       "[[0.9312692223325372, 0.8201921796082118, 0.7971480974663592],\n",
       " [0.8888663743660877, 0.7106793139856472, 0.7158661451411206],\n",
       " [0.8314793143949643, 0.5987041921652179, 0.6530062709235388],\n",
       " [0.7588951019517731, 0.49817117746394224, 0.6058723814510268],\n",
       " [0.6672565752652589, 0.40671838146419587, 0.5620016466433286],\n",
       " [0.5529215689527474, 0.3217924564263954, 0.5093718054521851],\n",
       " [0.43082755198027817, 0.24984535814964698, 0.44393960899639856],\n",
       " [0.29794615023641036, 0.18145907625614888, 0.3531778140503475],\n",
       " [0.1750865648952205, 0.11840023306916837, 0.24215989137836502]]"
      ]
     },
     "execution_count": 3,
     "metadata": {},
     "output_type": "execute_result"
    }
   ],
   "source": [
    "sns.choose_cubehelix_palette()"
   ]
  },
  {
   "cell_type": "code",
   "execution_count": 4,
   "metadata": {
    "_kg_hide-input": true,
    "slideshow": {
     "slide_type": "notes"
    }
   },
   "outputs": [],
   "source": [
    "edu_color = sns.cubehelix_palette(n_colors=15, start=2.8, rot=-0.1, gamma=2.0, hue=0.8, light=0.8, dark=0.3)\n",
    "edu_cmap = sns.cubehelix_palette(n_colors=10, start=2.8, rot=-0.1, gamma=1.0, hue=0.7, light=1.0, dark=0.1, as_cmap=True)\n",
    "all_cmap = sns.cubehelix_palette(n_colors=10, start=2.8, rot=-0.1, gamma=1.0, hue=0.1, light=1.0, dark=0.1, as_cmap=True)\n",
    "all_cmap1 = sns.cubehelix_palette(n_colors=10, start=1.6, rot=0.3, gamma=1.0, hue=0.7, light=1.0, dark=0.1, as_cmap=True)"
   ]
  },
  {
   "cell_type": "code",
   "execution_count": 8,
   "metadata": {
    "_kg_hide-input": true,
    "_kg_hide-output": true,
    "slideshow": {
     "slide_type": "notes"
    }
   },
   "outputs": [],
   "source": [
    "survey_2020 = pd.read_csv('../input/kaggle-survey-2020/kaggle_survey_2020_responses.csv', low_memory=False, skiprows=[1])\n",
    "survey_2019 = pd.read_csv('../input/kaggle-survey-2019/multiple_choice_responses.csv', low_memory=False, skiprows=[1])\n",
    "survey_2018 = pd.read_csv('../input/kaggle-survey-2018/multipleChoiceResponses.csv', low_memory=False, skiprows=[1])"
   ]
  },
  {
   "cell_type": "code",
   "execution_count": 9,
   "metadata": {
    "_kg_hide-input": true,
    "_kg_hide-output": true,
    "slideshow": {
     "slide_type": "notes"
    }
   },
   "outputs": [],
   "source": [
    "# Modify the column names\n",
    "columns = {'Q1': 'Age', \n",
    "           'Q2': 'Gender', \n",
    "           'Q3': 'Country', \n",
    "           'Q4': 'Education', \n",
    "           'Q5': 'Title', \n",
    "           'Q6': 'Coding_exp', \n",
    "           'Q8': 'Recmd_language', \n",
    "           'Q15': 'ML_exp',\n",
    "           'Q20': 'Company_size', \n",
    "           'Q24': 'Salary'}\n",
    "\n",
    "survey_2019.rename(columns={'Q4': 'Education'}, inplace=True)\n",
    "survey_2018.rename(columns={'Q4': 'Education'}, inplace=True)\n",
    "survey_2020.rename(columns=columns, inplace=True)"
   ]
  },
  {
   "cell_type": "code",
   "execution_count": 10,
   "metadata": {
    "_kg_hide-input": true,
    "_kg_hide-output": true,
    "slideshow": {
     "slide_type": "notes"
    }
   },
   "outputs": [
    {
     "name": "stdout",
     "output_type": "stream",
     "text": [
      "<class 'pandas.core.frame.DataFrame'>\n",
      "RangeIndex: 20036 entries, 0 to 20035\n",
      "Columns: 355 entries, Time from Start to Finish (seconds) to Q35_B_OTHER\n",
      "dtypes: int64(1), object(354)\n",
      "memory usage: 54.3+ MB\n"
     ]
    }
   ],
   "source": [
    "survey_2020.info()"
   ]
  },
  {
   "cell_type": "code",
   "execution_count": 11,
   "metadata": {
    "_kg_hide-input": true,
    "_kg_hide-output": true,
    "slideshow": {
     "slide_type": "notes"
    }
   },
   "outputs": [
    {
     "data": {
      "text/plain": [
       "Time from Start to Finish (seconds)     int64\n",
       "Age                                    object\n",
       "Gender                                 object\n",
       "Country                                object\n",
       "Education                              object\n",
       "                                        ...  \n",
       "Q35_B_Part_7                           object\n",
       "Q35_B_Part_8                           object\n",
       "Q35_B_Part_9                           object\n",
       "Q35_B_Part_10                          object\n",
       "Q35_B_OTHER                            object\n",
       "Length: 355, dtype: object"
      ]
     },
     "execution_count": 11,
     "metadata": {},
     "output_type": "execute_result"
    }
   ],
   "source": [
    "survey_2020.dtypes"
   ]
  },
  {
   "cell_type": "code",
   "execution_count": null,
   "metadata": {
    "_kg_hide-input": true,
    "_kg_hide-output": true,
    "slideshow": {
     "slide_type": "notes"
    }
   },
   "outputs": [],
   "source": [
    "# Convert the datatype of 'Education' column to an ordered category\n",
    "Education = ['I prefer not to answer',\n",
    "             'No formal education past high school', \n",
    "             'Some college/university study without earning a bachelor’s degree', \n",
    "             'Bachelor’s degree', \n",
    "             'Master’s degree', \n",
    "             'Doctoral degree', \n",
    "             'Professional degree']\n",
    "edu = pd.api.types.CategoricalDtype(categories=Education, ordered=True)\n",
    "survey_2020['Education'] = survey_2020['Education'].astype(edu)"
   ]
  },
  {
   "cell_type": "code",
   "execution_count": null,
   "metadata": {
    "_kg_hide-input": true,
    "slideshow": {
     "slide_type": "notes"
    }
   },
   "outputs": [],
   "source": [
    "survey_2020_doct = survey_2020.query('Education == \"Doctoral degree\"').copy()"
   ]
  },
  {
   "cell_type": "code",
   "execution_count": null,
   "metadata": {
    "_kg_hide-input": true,
    "_kg_hide-output": true,
    "slideshow": {
     "slide_type": "notes"
    }
   },
   "outputs": [],
   "source": [
    "survey_2020_doct"
   ]
  },
  {
   "cell_type": "markdown",
   "metadata": {
    "slideshow": {
     "slide_type": "slide"
    }
   },
   "source": [
    "<a id='eda'></a>\n",
    "### Exploratory Data Analysis"
   ]
  },
  {
   "cell_type": "markdown",
   "metadata": {
    "slideshow": {
     "slide_type": "slide"
    }
   },
   "source": [
    "<a id='prop'></a>\n",
    "## Distribution of education levels"
   ]
  },
  {
   "cell_type": "code",
   "execution_count": null,
   "metadata": {
    "_kg_hide-input": true,
    "slideshow": {
     "slide_type": "notes"
    }
   },
   "outputs": [],
   "source": [
    "edu_20 = survey_2020['Education'].value_counts()[Education].reset_index()\n",
    "edu_19 = survey_2019['Education'].value_counts()[Education].reset_index()\n",
    "edu_18 = survey_2018['Education'].value_counts()[Education].reset_index()\n",
    "\n",
    "edu_20.rename(columns={'index': 'Education', 'Education': '2020'}, inplace=True)\n",
    "edu_19.rename(columns={'index': 'Education', 'Education': '2019'}, inplace=True)\n",
    "edu_18.rename(columns={'index': 'Education', 'Education': '2018'}, inplace=True)\n",
    "\n",
    "edu_20.set_index('Education', inplace=True)\n",
    "edu_19.set_index('Education', inplace=True)\n",
    "edu_18.set_index('Education', inplace=True)\n",
    "\n",
    "edu = edu_18.merge(edu_19, how='inner', on='Education').merge(edu_20, how='inner', on='Education')\n",
    "\n",
    "edu['2018'] = edu['2018'].apply(lambda x: x/edu['2018'].sum()*100, convert_dtype='float')\n",
    "edu['2019'] = edu['2019'].apply(lambda x: x/edu['2019'].sum()*100, convert_dtype='float')\n",
    "edu['2020'] = edu['2020'].apply(lambda x: x/edu['2020'].sum()*100, convert_dtype='float')"
   ]
  },
  {
   "cell_type": "code",
   "execution_count": null,
   "metadata": {
    "_kg_hide-input": true,
    "slideshow": {
     "slide_type": "subslide"
    }
   },
   "outputs": [],
   "source": [
    "\n",
    "# initiate an figure\n",
    "fig = plt.figure(figsize=[12, 7])\n",
    "gs = fig.add_gridspec(1, 1)\n",
    "ax0 = fig.add_subplot(gs[0, 0])\n",
    "\n",
    "# backgroud color\n",
    "bg_color = '#f7f7f7'\n",
    "fig.patch.set_facecolor(bg_color)\n",
    "ax0.set_facecolor(bg_color)\n",
    "\n",
    "# bar color\n",
    "edu_color = sns.cubehelix_palette(n_colors=15, start=2.8, rot=-0.1, gamma=0.9, hue=0.8, light=0.8, dark=0.3)\n",
    "\n",
    "# plot 'edu.dataframe' row by row\n",
    "x = np.arange(start=0, stop=13, step=2)\n",
    "ax0.bar(x, edu['2018'], width=0.4, color=edu_color[2], edgecolor=(0, 0, 0), zorder=3, label='2018')\n",
    "ax0.bar(x+0.4+0.06, edu['2019'], width=0.4, color=edu_color[6], edgecolor=(0, 0, 0), zorder=3, label='2019')\n",
    "ax0.bar(x+0.4*2+0.06*2, edu['2020'], width=0.4, color=edu_color[10], edgecolor=(0, 0, 0), zorder=3, label='2020')\n",
    "\n",
    "# Polish the plot\n",
    "ax0.grid(which='major', axis='y', color='lightgrey', zorder=0)\n",
    "\n",
    "for s in ['top','right','left']:\n",
    "    ax0.spines[s].set_visible(False)\n",
    "\n",
    "ax0.set_xticks(x+0.4+0.03)\n",
    "edu_ticks = ['I prefer not to answer',\n",
    "             'No formal education \\n past high school', \n",
    "             'Some college/university \\n study without earning \\n a bachelor’s degree', \n",
    "             'Bachelor’s degree', \n",
    "             'Master’s degree', \n",
    "             'Doctoral degree', \n",
    "             'Professional degree']\n",
    "ax0.set_xticklabels(edu_ticks, {'rotation': 90, 'fontsize': 10})\n",
    "\n",
    "ax0.text(-1, 52,\n",
    "         'Distribution of Education Levels (%)',\n",
    "         fontsize=14, \n",
    "         fontweight='bold')\n",
    "\n",
    "ax0.legend(title='Year', \n",
    "           fontsize=9,\n",
    "           title_fontsize=10,\n",
    "           bbox_to_anchor=[1, 0.88], \n",
    "           loc='lower left',\n",
    "           framealpha=0);"
   ]
  },
  {
   "cell_type": "markdown",
   "metadata": {
    "slideshow": {
     "slide_type": "slide"
    }
   },
   "source": [
    "**Here is the distribution of education levels in 2018, 2019, and 2020.**\n",
    "\n",
    "Since the number of respondents are different each year, I used relative frequency instead of absolute frequency. \n",
    "\n",
    "The proportion of respondents with Bachelor's and Master's degree is the highest in all three years, though Bachelor's degree is increasing and Master's degree is decreasing.\n",
    "\n",
    "For Doctoral degree, its proportion is the third highest, though there is a slightly decrease in 2020.  "
   ]
  },
  {
   "cell_type": "markdown",
   "metadata": {
    "slideshow": {
     "slide_type": "slide"
    }
   },
   "source": [
    "<a id='gender'></a>\n",
    "## Gender"
   ]
  },
  {
   "cell_type": "code",
   "execution_count": null,
   "metadata": {
    "_kg_hide-input": true,
    "slideshow": {
     "slide_type": "notes"
    }
   },
   "outputs": [],
   "source": [
    "survey_male = survey_2020.query('Gender == \"Man\"').copy()\n",
    "survey_female = survey_2020.query('Gender ==  \"Woman\"').copy()\n",
    "\n",
    "male_edu = survey_male.groupby('Education').size()\n",
    "male_edu = male_edu/male_edu.sum()*100\n",
    "female_edu = survey_female.groupby('Education').size()\n",
    "female_edu = -female_edu/female_edu.sum()*100"
   ]
  },
  {
   "cell_type": "code",
   "execution_count": null,
   "metadata": {
    "_kg_hide-input": true
   },
   "outputs": [],
   "source": [
    "fig = plt.figure(figsize=[12,7])\n",
    "gs = fig.add_gridspec(1, 1)\n",
    "ax0 = fig.add_subplot(gs[0, 0], ylim=[-50, 50])\n",
    "\n",
    "bg_color = '#f7f7f7'\n",
    "fig.patch.set_facecolor(bg_color)\n",
    "ax0.set_facecolor(bg_color)\n",
    "\n",
    "ax0.bar(male_edu.index, male_edu, color=edu_color[1], edgecolor=(0, 0, 0), zorder=2, label='Male')\n",
    "ax0.bar(female_edu.index, female_edu, color=edu_color[8], edgecolor=(0,0,0), zorder=2, label='Female')\n",
    "\n",
    "for i in male_edu.index:\n",
    "    ax0.annotate('{:.2f}%'.format(male_edu[i]),\n",
    "                xy=(i, male_edu[i]+3),\n",
    "                va='center', \n",
    "                ha='center',\n",
    "                alpha=0.5,\n",
    "                fontsize=10)\n",
    "for j in female_edu.index:\n",
    "    ax0.annotate('{:.2f}%'.format(-female_edu[j]),\n",
    "                xy=(j, female_edu[j]-3),\n",
    "                va='center',\n",
    "                ha='center',\n",
    "                alpha=0.5,\n",
    "                fontsize=10)\n",
    "    \n",
    "ticks, labels = plt.xticks()\n",
    "ax0.set_xticklabels(edu_ticks,\n",
    "                    {'rotation': 90,\n",
    "                     'fontsize': 10})\n",
    "\n",
    "yticks = [-40, -20, 0, 20, 40]\n",
    "plt.yticks(ticks = yticks, labels = np.abs(yticks))\n",
    "\n",
    "for s in ['top', 'left', 'right']:\n",
    "    ax0.spines[s].set_visible(False)\n",
    "    \n",
    "ax0.grid(which='major', axis='y', color='lightgrey', zorder=0)\n",
    "ax0.axhline(c='black', lw=1, ls=':')\n",
    "\n",
    "ax0.legend(title='Gender', \n",
    "           fontsize=10,\n",
    "           title_fontsize=10,\n",
    "           bbox_to_anchor=[1, 0.88], \n",
    "           loc='lower left',\n",
    "           framealpha=0)\n",
    "\n",
    "ax0.text(-1, 50, \n",
    "         'Distribution of Education Levels in Male and Female (%)', \n",
    "         fontsize=14, \n",
    "         fontweight='bold');"
   ]
  },
  {
   "cell_type": "markdown",
   "metadata": {},
   "source": [
    "**This is the distribution of education levels in male and female respondents**\n",
    "\n",
    "There are more female respondents in the group of Master's degree and Doctoral degree. "
   ]
  },
  {
   "cell_type": "markdown",
   "metadata": {},
   "source": [
    "<a id='age'></a>\n",
    "## Age and experience\n"
   ]
  },
  {
   "cell_type": "code",
   "execution_count": null,
   "metadata": {
    "_kg_hide-input": true
   },
   "outputs": [],
   "source": [
    "# Age distribution\n",
    "age_total = survey_2020.groupby('Age').size()\n",
    "age_prop_total = -age_total/age_total.sum()*100\n",
    "age_doct = survey_2020_doct.groupby('Age').size()\n",
    "age_prop_doct = age_doct/age_doct.sum()*100\n",
    "\n",
    "# coding distribution\n",
    "coding = ['I have never written code', '< 1 years', '1-2 years', '3-5 years', '5-10 years', '10-20 years', '20+ years']\n",
    "\n",
    "code_total = survey_2020.groupby('Coding_exp').size()[coding]\n",
    "code_prop_total = -code_total/code_total.sum()*100\n",
    "\n",
    "code_doct = survey_2020_doct.groupby('Coding_exp').size()[coding]\n",
    "code_prop_doct = code_doct/code_doct.sum()*100\n",
    "\n",
    "# age and coding relationship\n",
    "age_coding = survey_2020.groupby(['Coding_exp', 'Age']).size().unstack().reindex(coding[::-1])"
   ]
  },
  {
   "cell_type": "code",
   "execution_count": null,
   "metadata": {
    "_kg_hide-input": true
   },
   "outputs": [],
   "source": [
    "fig = plt.figure(figsize=[12, 7])\n",
    "gs = fig.add_gridspec(1, 1)\n",
    "ax0 = fig.add_subplot(gs[0, 0], ylim=[-30, 35])\n",
    "\n",
    "bg_color = '#f7f7f7'\n",
    "fig.patch.set_facecolor(bg_color)\n",
    "ax0.set_facecolor(bg_color)\n",
    "\n",
    "ax0.bar(age_doct.index, age_prop_doct, color=edu_color[7], edgecolor=(0, 0, 0), width=0.6, zorder=2, label='Doctoral degree')\n",
    "ax0.bar(age_total.index, age_prop_total, color='silver', edgecolor=(0, 0, 0), width=0.6, zorder=2, label='All')\n",
    "\n",
    "for j in age_doct.index:\n",
    "    ax0.annotate('{:.2f}%'.format(age_prop_doct[j]),\n",
    "                xy=(j, age_prop_doct[j]+2),\n",
    "                va='center', \n",
    "                ha='center',\n",
    "                fontsize=10,\n",
    "                alpha=0.5)\n",
    "for i in age_total.index:\n",
    "    ax0.annotate('{:.2f}%'.format(-age_prop_total[i]),\n",
    "                xy=(i, age_prop_total[i]-2),\n",
    "                va='center',\n",
    "                ha='center',\n",
    "                fontsize=10,\n",
    "                alpha=0.5)\n",
    "\n",
    "for s in ['top', 'left', 'right']:\n",
    "    ax0.spines[s].set_visible(False)\n",
    "ax0.grid(which='major', axis='y', color='lightgrey', zorder=0)\n",
    "ax0.axhline(c='black', lw=1, ls=':')\n",
    "\n",
    "yticks=[-20, -10, 0, 10, 20, 30]\n",
    "plt.yticks(yticks, np.abs(yticks))\n",
    "\n",
    "ax0.set_xticklabels(['18-21', '22-24', '25-29', '30-34', '35-39', '40-44', '45-49', '50-54',\n",
    "       '55-59', '60-69', '70+'],\n",
    "                    {'fontsize': 10})\n",
    "plt.xlabel('Age (yr)')\n",
    "\n",
    "ax0.text(-1.5, 35,\n",
    "         'Distribution of Age in Doctoral Degree and All Education Levels (%)', \n",
    "         fontsize=14, \n",
    "         fontweight='bold')\n",
    "\n",
    "ax0.legend(title='Education Levels', \n",
    "           fontsize=10,\n",
    "           title_fontsize=10,\n",
    "           bbox_to_anchor=[1, 0.88], \n",
    "           loc='lower left',\n",
    "           framealpha=0);"
   ]
  },
  {
   "cell_type": "markdown",
   "metadata": {},
   "source": [
    "**This is the distribution of age in respondents with Doctoral degree and in the whole population.**\n",
    "\n",
    "For respondents with Doctoral degree, majority are older than 30 years old. The peak of distribution locates in the age range 30-34 years old. \n",
    "\n",
    "For all the education levels, majority of people are younger than 30 years old. The peak of the age distribution locates in age range 25-29 years old. \n",
    "\n",
    "Considering the long period of time to complete the Doctoral degree (at least 5 years), it is not surprising to observe the right-switch of the age distribution.\n",
    "\n",
    "Interestingly, there is a slight increase for respondents with Doctoral degree in 60-69 years old. "
   ]
  },
  {
   "cell_type": "code",
   "execution_count": null,
   "metadata": {
    "_kg_hide-input": true
   },
   "outputs": [],
   "source": [
    "fig = plt.figure(figsize=[12, 7])\n",
    "gs = fig.add_gridspec(1, 1)\n",
    "ax0 = fig.add_subplot(gs[0, 0], ylim=[-30, 30])\n",
    "\n",
    "bg_color = '#f7f7f7'\n",
    "fig.patch.set_facecolor(bg_color)\n",
    "ax0.set_facecolor(bg_color)\n",
    "\n",
    "ax0.bar(code_doct.index, code_prop_doct, color=edu_color[7], edgecolor=(0, 0, 0), width=0.6, zorder=2, label='Doctoral degree')\n",
    "ax0.bar(code_total.index, code_prop_total, color='silver', edgecolor=(0, 0, 0), width=0.6, zorder=2, label='All')\n",
    "\n",
    "for j in code_doct.index:\n",
    "    ax0.annotate('{:.2f}%'.format(code_prop_doct[j]),\n",
    "                xy=(j, code_prop_doct[j]+2),\n",
    "                va='center', \n",
    "                ha='center',\n",
    "                fontsize=10,\n",
    "                alpha=0.5)\n",
    "for i in code_total.index:\n",
    "    ax0.annotate('{:.2f}%'.format(-code_prop_total[i]),\n",
    "                xy=(i, code_prop_total[i]-2),\n",
    "                va='center',\n",
    "                ha='center', \n",
    "                fontsize=10,\n",
    "                alpha=.5)\n",
    "\n",
    "for s in ['top', 'left', 'right']:\n",
    "    ax0.spines[s].set_visible(False)\n",
    "ax0.grid(which='major', axis='y', color='lightgrey', zorder=0)\n",
    "ax0.axhline(c='black', lw=1, ls=':')\n",
    "\n",
    "yticks = [-20, -10, 0, 10, 20, 30]\n",
    "plt.yticks(yticks, np.abs(yticks))\n",
    "\n",
    "cod_label = ['I have never \\n written code', '< 1 years', '1-2 years', '3-5 years', '5-10 years', '10-20 years', '20+ years']\n",
    "ticks, labels = plt.xticks()\n",
    "plt.xticks(ticks=ticks, labels=cod_label, rotation=90)\n",
    "plt.xlabel('Coding Experience')\n",
    "\n",
    "ax0.text(-1, 35,\n",
    "         'Distribution of Coding Experience in Doctoral Degree and All Education Levels (%)', \n",
    "          fontsize=14, \n",
    "          fontweight='bold',)\n",
    "\n",
    "ax0.legend(title='Education Levels', \n",
    "           fontsize=9,\n",
    "           title_fontsize=10,\n",
    "           bbox_to_anchor=[1, 0.88], \n",
    "           loc='lower left',\n",
    "           framealpha=0);"
   ]
  },
  {
   "cell_type": "code",
   "execution_count": null,
   "metadata": {
    "_kg_hide-input": true
   },
   "outputs": [],
   "source": [
    "print('{:.2f}% of respondents with Doctoral degree have coding experience longer than 5 years.'.format(code_prop_doct['5-10 years']+code_prop_doct['10-20 years']+code_prop_doct['20+ years']))"
   ]
  },
  {
   "cell_type": "markdown",
   "metadata": {},
   "source": [
    "**This is the distribution of coding experience in respondents with Doctoral degree and all education levels**\n",
    "\n",
    "Consist with age distribution, majority of people with doctoral degree have coding experience longer than 5 years. There is no doubt that a proportion of these respondents acquired Ph.D. majoring in computer science or data science, which provides them with additional coding experience. For some respondents with Ph.D. in other majors, they usually start coding before graduation in order to switch the career fluently. It benefits them with more coding experience as well.\n",
    "\n",
    "For all education levels, most people have coding experience shorter than 5 years. \n",
    "\n",
    "**Then, I want to do a small exploration into the relationship between coding experience and age of respondents**"
   ]
  },
  {
   "cell_type": "code",
   "execution_count": null,
   "metadata": {
    "_kg_hide-input": true
   },
   "outputs": [],
   "source": [
    "fig = plt.figure(figsize=[12, 7])\n",
    "gs = fig.add_gridspec(1, 1)\n",
    "ax0 = fig.add_subplot(gs[0, 0])\n",
    "\n",
    "sns.heatmap(data=age_coding, \n",
    "            cmap=edu_cmap, \n",
    "            linewidths=0.2, \n",
    "            square=True, \n",
    "            annot=True, \n",
    "            fmt = 'd', \n",
    "            annot_kws={'alpha': 0.5, 'fontsize': 9},\n",
    "            cbar_kws={'shrink': 0.6, 'label': 'Number of respondents'})\n",
    "\n",
    "plt.xlabel('Age (yr)')\n",
    "\n",
    "\n",
    "plt.ylabel('Coding experience')\n",
    "plt.yticks(rotation=0)\n",
    "\n",
    "plt.title('Relationship Between Coding Experience and Age', fontsize=14, fontweight='bold', loc='left', va='bottom');"
   ]
  },
  {
   "cell_type": "markdown",
   "metadata": {},
   "source": [
    "**There is a positive correlation between age and coding experience in this dataset**\n",
    "\n",
    "With the age increasing, coding experience increases. Recalling the age distribution, this positive correlation partially explains the higher proportion of experienced respondents in the Doctoral degree group.\n",
    "\n",
    "Majority have 1-5 years coding experiences in the age between 18-29 years old."
   ]
  },
  {
   "cell_type": "markdown",
   "metadata": {},
   "source": [
    "<a id='profession'></a>\n",
    "## Profession"
   ]
  },
  {
   "cell_type": "code",
   "execution_count": null,
   "metadata": {
    "_kg_hide-input": true
   },
   "outputs": [],
   "source": [
    "company_size = ['0-49 employees', '50-249 employees', '250-999 employees', '1000-9,999 employees', '10,000 or more employees']\n",
    "\n",
    "company_total = survey_2020.groupby('Company_size').size()[company_size]\n",
    "company_prop_total = -company_total/company_total.sum()*100\n",
    "\n",
    "company_doct = survey_2020_doct.groupby('Company_size').size()[company_size]\n",
    "company_prop_doct = company_doct/company_doct.sum()*100"
   ]
  },
  {
   "cell_type": "code",
   "execution_count": null,
   "metadata": {
    "_kg_hide-input": true
   },
   "outputs": [],
   "source": [
    "fig = plt.figure(figsize=[12, 7])\n",
    "gs = fig.add_gridspec(1, 1)\n",
    "ax0 = fig.add_subplot(gs[0, 0], ylim=[-45, 40])\n",
    "\n",
    "bg_color = '#f7f7f7'\n",
    "fig.patch.set_facecolor(bg_color)\n",
    "ax0.set_facecolor(bg_color)\n",
    "\n",
    "ax0.bar(company_doct.index, company_prop_doct, color=edu_color[7], edgecolor=(0, 0, 0), width=0.5, zorder=3, label='Doctoral degree')\n",
    "ax0.bar(company_total.index, company_prop_total, color='silver', edgecolor=(0, 0, 0), width=0.5, zorder=3, label='All')\n",
    "\n",
    "for j in company_doct.index:\n",
    "    ax0.annotate('{:.2f}%'.format(company_prop_doct[j]),\n",
    "                xy=(j, company_prop_doct[j]+2),\n",
    "                va='center', \n",
    "                ha='center',\n",
    "                fontsize=10,\n",
    "                alpha=.5)\n",
    "    \n",
    "for i in company_total.index:\n",
    "    ax0.annotate('{:.2f}%'.format(-company_prop_total[i]),\n",
    "                xy=(i, company_prop_total[i]-2),\n",
    "                va='center',\n",
    "                ha='center',\n",
    "                fontsize=10,\n",
    "                alpha=.5)\n",
    "\n",
    "for s in ['top', 'left', 'right']:\n",
    "    ax0.spines[s].set_visible(False)\n",
    "ax0.grid(which='major', axis='y', color='lightgrey', zorder=0)\n",
    "ax0.axhline(c='black', lw=1, ls=':')\n",
    "\n",
    "plt.xticks(rotation=90)\n",
    "\n",
    "yticks=[-30, -20, -10, 0, 10, 20, 30]\n",
    "plt.yticks(yticks, np.abs(yticks))\n",
    "\n",
    "\n",
    "ax0.text(-1, 45,\n",
    "         'Distribution of Company Size in Doctoral Degree and All Education Levels (%)', \n",
    "          fontsize=14, \n",
    "          fontweight='bold')\n",
    "\n",
    "ax0.legend(title='Education Levels', \n",
    "           fontsize=9,\n",
    "           title_fontsize=10,\n",
    "           bbox_to_anchor=[1, 0.88], \n",
    "           loc='lower left',\n",
    "           framealpha=0);"
   ]
  },
  {
   "cell_type": "markdown",
   "metadata": {},
   "source": [
    "**This is the distribution of respondents employed by companies of different sizes**\n",
    "\n",
    "Over 30% of respondents are working in companies having less than 50 employees, which are probably start-up companies. It reflects the rapid development and growing demand of data science and machine learning."
   ]
  },
  {
   "cell_type": "code",
   "execution_count": null,
   "metadata": {
    "_kg_hide-input": true
   },
   "outputs": [],
   "source": [
    "title_total = survey_2020.groupby('Title').size()\n",
    "title_prop_total = -title_total/title_total.sum()*100\n",
    "title_doct = survey_2020_doct.groupby('Title').size()\n",
    "title_prop_doct = title_doct/title_doct.sum()*100"
   ]
  },
  {
   "cell_type": "code",
   "execution_count": null,
   "metadata": {
    "_kg_hide-input": true
   },
   "outputs": [],
   "source": [
    "fig = plt.figure(figsize=[12, 7])\n",
    "gs = fig.add_gridspec(1, 1)\n",
    "ax0 = fig.add_subplot(gs[0, 0], ylim=[-35, 40])\n",
    "\n",
    "bg_color = '#f7f7f7'\n",
    "fig.patch.set_facecolor(bg_color)\n",
    "ax0.set_facecolor(bg_color)\n",
    "\n",
    "ax0.bar(title_doct.index, title_prop_doct, color=edu_color[7], edgecolor=(0, 0, 0), width=0.6, zorder=2, label='Doctoral degree')\n",
    "ax0.bar(title_total.index, title_prop_total, color='silver', edgecolor=(0, 0, 0), width=0.6, zorder=2, label='All')\n",
    "\n",
    "for i in title_total.index:\n",
    "    ax0.annotate('{:.2f}%'.format(-title_prop_total[i]),\n",
    "                xy=(i, title_prop_total[i]-2),\n",
    "                va='center',\n",
    "                ha='center',\n",
    "                fontsize=10,\n",
    "                alpha=.5)\n",
    "    \n",
    "for j in title_doct.index:\n",
    "    ax0.annotate('{:.2f}%'.format(title_prop_doct[j]),\n",
    "                xy=(j, title_prop_doct[j]+2),\n",
    "                va='center', \n",
    "                ha='center',\n",
    "                fontsize=10,\n",
    "                alpha=.5)\n",
    "\n",
    "for s in ['top', 'left', 'right']:\n",
    "    ax0.spines[s].set_visible(False)\n",
    "ax0.grid(which='major', axis='y', color='lightgrey', zorder=0)\n",
    "ax0.axhline(color='black', lw=1, ls=':')\n",
    "\n",
    "plt.xticks(rotation=90)\n",
    "\n",
    "yticks=[-20, -10, 0, 10, 20, 30]\n",
    "plt.yticks(yticks, np.abs(yticks))\n",
    "\n",
    "\n",
    "ax0.text(-1.5, 40,\n",
    "         'Distribution of Profession in Doctoral Degree and All Education Levels (%)', \n",
    "         fontsize=14, \n",
    "         fontweight='bold')\n",
    "\n",
    "ax0.legend(title='Education Levels', \n",
    "           fontsize=9,\n",
    "           title_fontsize=10,\n",
    "           bbox_to_anchor=[1, 0.88], \n",
    "           loc='lower left',\n",
    "           framealpha=0);"
   ]
  },
  {
   "cell_type": "markdown",
   "metadata": {},
   "source": [
    "**This is the distribution of profession in respondents with Doctoral degree and in whole population**\n",
    "\n",
    "For respondents with doctoral degree, 30.08% are currently working as research scientist, which is the most prevalent profession. It is much higher than 6.09% in the whole population. \n",
    "\n",
    "The second highest proportion of profession for both groups is Data scientist.\n",
    "\n",
    "For all education levels, \"student\" is the most prevalent role, with percentage 26.82%."
   ]
  },
  {
   "cell_type": "markdown",
   "metadata": {},
   "source": [
    "<a id='salary'></a>\n",
    "## Salary"
   ]
  },
  {
   "cell_type": "code",
   "execution_count": null,
   "metadata": {
    "_kg_hide-input": true
   },
   "outputs": [],
   "source": [
    "salary = ['$0-999', '1,000-1,999', '2,000-2,999', '3,000-3,999', '4,000-4,999', '5,000-7,499', '7,500-9,999', \n",
    "          '10,000-14,999', '15,000-19,999', '20,000-24,999', '25,000-29,999', '30,000-39,999', '40,000-49,999',\n",
    "          '50,000-59,999', '60,000-69,999', '70,000-79,999', '80,000-89,999', '90,000-99,999', '100,000-124,999',\n",
    "          '125,000-149,999', '150,000-199,999', '200,000-249,999', '250,000-299,999', '300,000-500,000', '> $500,000']\n",
    "salary_total = survey_2020.groupby('Salary').size()[salary]\n",
    "salary_prop_total = -salary_total/salary_total.sum()*100\n",
    "\n",
    "salary_doct = survey_2020_doct.groupby('Salary').size()[salary]\n",
    "salary_prop_doct = salary_doct/salary_doct.sum()*100"
   ]
  },
  {
   "cell_type": "code",
   "execution_count": null,
   "metadata": {
    "_kg_hide-input": true
   },
   "outputs": [],
   "source": [
    "fig = plt.figure(figsize=[14, 8])\n",
    "gs = fig.add_gridspec(1, 1)\n",
    "ax0 = fig.add_subplot(gs[0, 0], ylim=[-30, 20])\n",
    "\n",
    "bg_color = '#f7f7f7'\n",
    "fig.patch.set_facecolor(bg_color)\n",
    "ax0.set_facecolor(bg_color)\n",
    "\n",
    "ax0.bar(salary_doct.index, salary_prop_doct, color=edu_color[7], edgecolor=(0, 0, 0), width=0.6, zorder=2, label='Doctoral degree')\n",
    "ax0.bar(salary_total.index, salary_prop_total, color='silver', edgecolor=(0, 0, 0), width=0.6, zorder=2, label='All')\n",
    "\n",
    "for i in salary_total.index:\n",
    "    ax0.annotate('{:.2f}%'.format(-salary_prop_total[i]),\n",
    "                xy=(i, salary_prop_total[i]-1),\n",
    "                va='center',\n",
    "                ha='center',\n",
    "                fontsize=7,\n",
    "                alpha=.5)\n",
    "    \n",
    "for j in salary_doct.index:\n",
    "    ax0.annotate('{:.2f}%'.format(salary_prop_doct[j]),\n",
    "                xy=(j, salary_prop_doct[j]+0.8),\n",
    "                va='center', \n",
    "                ha='center',\n",
    "                fontsize=7,\n",
    "                alpha=.5)\n",
    "    \n",
    "for s in ['top', 'left', 'right']:\n",
    "    ax0.spines[s].set_visible(False)   \n",
    "ax0.grid(which='major', axis='y', color='lightgrey', zorder=0)\n",
    "ax0.axhline(c='black', lw=1, ls=':')\n",
    "\n",
    "plt.xticks(rotation=90)\n",
    "\n",
    "\n",
    "yticks=[-20, -10, 0, 10, 20]\n",
    "plt.yticks(yticks, np.abs(yticks))\n",
    "\n",
    "\n",
    "ax0.text(-2, 25,\n",
    "         'Distribution of Salary in Doctoral Degree and All Education Levels (%)', \n",
    "          fontsize=14, \n",
    "          fontweight='bold')\n",
    "\n",
    "ax0.legend(title='Education Levels', \n",
    "           fontsize=9,\n",
    "           title_fontsize=10,\n",
    "           bbox_to_anchor=[1, 0.88], \n",
    "           loc='lower left',\n",
    "           framealpha=0);"
   ]
  },
  {
   "cell_type": "markdown",
   "metadata": {},
   "source": [
    "**This is the distribution of salary of respondents with Doctoral degree and in the whole population.**\n",
    "\n",
    "The \"salary\" here means annual compensation. However, the highest proportion is range $0-999, which is irrational in US. I have two assumptions:\n",
    "\n",
    "* Considering it is a world-wide survey, this might be attributed to the difference in regional economy. \n",
    "* It is also possible, that some parts of respondents misunderstood the salary as monthly instead of annual.\n",
    "\n",
    "If we compare the distrubition in the range higher than $1,000, it is not difficult to find that, the percentage of respondents with Doctoral degree earning over \\\\$100,000 per year is higher than that in the whole population. Given the higher proportion of data scientist and research scientist, as well as longer coding experience in respondents with Doctoral degree, the different distribution of salary might be attributed to the potential relationships among profession, coding experience and salary. \n",
    "\n",
    "Then, I'll dig into it by plotting the distribution of title, coding experience and salary with/without Doctoral degree."
   ]
  },
  {
   "cell_type": "code",
   "execution_count": null,
   "metadata": {
    "_kg_hide-input": true
   },
   "outputs": [],
   "source": [
    "coding_title = survey_2020.groupby(['Coding_exp', 'Title']).size().unstack().reindex(coding[::-1])\n",
    "coding_title_doct = survey_2020_doct.groupby(['Coding_exp', 'Title']).size().unstack().reindex(coding[::-1]).fillna(0).astype(int)"
   ]
  },
  {
   "cell_type": "code",
   "execution_count": null,
   "metadata": {
    "_kg_hide-input": true
   },
   "outputs": [],
   "source": [
    "fig = plt.figure(figsize=[18, 10])\n",
    "gs=fig.add_gridspec(2, 1)\n",
    "ax0=fig.add_subplot(gs[0, 0])\n",
    "ax1=fig.add_subplot(gs[1, 0])\n",
    "\n",
    "bg_color='#f7f7f7'\n",
    "fig.patch.set_facecolor(bg_color)\n",
    "ax0.set_facecolor(bg_color)\n",
    "ax1.set_facecolor(bg_color)\n",
    "\n",
    "sns.heatmap(data=coding_title_doct,\n",
    "                  cmap=edu_cmap, \n",
    "                  linewidths=0.2,\n",
    "                  linecolor='#f7f7f7',\n",
    "                  cbar=False,\n",
    "                  square=True, \n",
    "                  annot=True, \n",
    "                  fmt = 'd', \n",
    "                  annot_kws={'alpha': 0.5},\n",
    "                  ax=ax0,\n",
    "                  zorder=2,\n",
    "                  label='Doctoral degree')\n",
    "\n",
    "sns.heatmap(data=coding_title,\n",
    "                  cmap=all_cmap1, \n",
    "                  linewidths=0.2,\n",
    "                  linecolor='#f7f7f7',\n",
    "                  cbar=False,\n",
    "                  square=True, \n",
    "                  annot=True, \n",
    "                  fmt = 'd', \n",
    "                  annot_kws={'alpha': 0.5},\n",
    "                  ax=ax1,\n",
    "                  zorder=2,\n",
    "                  label='All')\n",
    "\n",
    "\n",
    "\n",
    "ax0.set_xticks([])\n",
    "ax0.set_xlabel(None)\n",
    "ax1.set_xlabel(None)\n",
    "ax0.set_ylabel(None)\n",
    "ax1.set_ylabel(None)\n",
    "\n",
    "ax0.text(13.7, 2.5, 'Doctoral Degree',\n",
    "         fontsize=14,\n",
    "         fontweight='bold',\n",
    "         bbox=dict(facecolor=edu_color[2]))\n",
    "\n",
    "ax1.text(13.7, 2.5, 'All Education Levels',\n",
    "         fontsize=14,\n",
    "         fontweight='bold',\n",
    "         bbox=dict(facecolor='darkgreen', alpha=.5))\n",
    "\n",
    "ax0.text(0, -1, 'Distribution of Coding Experience and Profession',\n",
    "         fontsize=16,\n",
    "         fontweight='bold');"
   ]
  },
  {
   "cell_type": "markdown",
   "metadata": {},
   "source": [
    "**This is the distribution of coding experience and profession in respondents with Doctoral degree and in the whole population.**\n",
    "\n",
    "Most students, data analysts, and budiness analysts have coding experience less than 5 years. \n",
    "\n",
    "Most data scientists, research scientists, and software engineers have coding experience longer than 3 years. \n",
    "\n",
    "Most of respondents with Doctoral degree are working as data scientist and research scientist, with coding experience longer than 5 years."
   ]
  },
  {
   "cell_type": "code",
   "execution_count": null,
   "metadata": {
    "_kg_hide-input": true
   },
   "outputs": [],
   "source": [
    "title_salary = survey_2020.groupby(['Title', 'Salary']).size().unstack()[salary].fillna(0).astype(int)\n",
    "title_salary_doct = survey_2020_doct.groupby(['Title', 'Salary']).size().unstack()[salary].fillna(0).astype(int)"
   ]
  },
  {
   "cell_type": "code",
   "execution_count": null,
   "metadata": {
    "_kg_hide-input": true
   },
   "outputs": [],
   "source": [
    "fig = plt.figure(figsize=[18, 10])\n",
    "gs=fig.add_gridspec(2, 1)\n",
    "ax0=fig.add_subplot(gs[0, 0])\n",
    "ax1=fig.add_subplot(gs[1, 0])\n",
    "\n",
    "bg_color='#f7f7f7'\n",
    "fig.patch.set_facecolor(bg_color)\n",
    "ax0.set_facecolor(bg_color)\n",
    "ax1.set_facecolor(bg_color)\n",
    "\n",
    "sns.heatmap(data=title_salary_doct,\n",
    "                  cmap=edu_cmap, \n",
    "                  cbar=False,\n",
    "                  linewidths=0.2,\n",
    "                  linecolor='#f7f7f7',\n",
    "                  square=True, \n",
    "                  annot=True, \n",
    "                  fmt = 'd', \n",
    "                  annot_kws={'alpha': 0.5, 'fontsize': 9},\n",
    "                  zorder=2,\n",
    "                  ax=ax0)\n",
    "\n",
    "sns.heatmap(data=title_salary,\n",
    "                  cmap=all_cmap1,\n",
    "                  cbar=False,\n",
    "                  linewidths=0.2, \n",
    "                  linecolor='#f7f7f7',\n",
    "                  square=True, \n",
    "                  annot=True, \n",
    "                  fmt = 'd', \n",
    "                  annot_kws={'alpha': 0.5, 'fontsize': 9},\n",
    "                  zorder=2,\n",
    "                  ax=ax1)\n",
    "\n",
    "\n",
    "ax0.set_xticks([])\n",
    "ax0.set_xlabel(None)\n",
    "ax1.set_xlabel(None)\n",
    "ax0.set_ylabel(None)\n",
    "ax1.set_ylabel(None)\n",
    "\n",
    "ax0.text(25.8, 2.5, 'Doctoral Degree',\n",
    "         fontsize=14,\n",
    "         fontweight='bold',\n",
    "         bbox=dict(facecolor=edu_color[2]))\n",
    "\n",
    "ax1.text(25.8, 2.5, 'All Education Levels',\n",
    "         fontsize=14,\n",
    "         fontweight='bold',\n",
    "         bbox=dict(facecolor='darkgreen', alpha=.5))\n",
    "\n",
    "ax0.text(0, -1, 'Distribution of Profession and Salary',\n",
    "         fontsize=16,\n",
    "         fontweight='bold');"
   ]
  },
  {
   "cell_type": "markdown",
   "metadata": {},
   "source": [
    "**This is the distribution of profession and salary in respondents with Doctoral degree and in the whole population**\n",
    "\n",
    "In the whole pupulation, there is a considerable proportion of data scientist have income higher than \\\\$100,000 per year. This pattern became more obvious for respondents with Doctoral degree.\n",
    "\n",
    "To address my assumption mentioned before, I'll separate USA and India in this plot. They are the top two countries from which the most respondents came. In addition, they are two representative developed and developing countries, respectively."
   ]
  },
  {
   "cell_type": "code",
   "execution_count": null,
   "metadata": {
    "_kg_hide-input": true
   },
   "outputs": [],
   "source": [
    "def title_vs_salary(country):\n",
    "    survey_2020_c = survey_2020[survey_2020['Country']==country].copy()\n",
    "    title_salary_c = survey_2020_c.groupby(['Title', 'Salary']).size().unstack()[salary].fillna(0).astype(int)\n",
    "    \n",
    "    fig = plt.figure(figsize=[14, 8])\n",
    "    gs=fig.add_gridspec(1, 1)\n",
    "    ax0=fig.add_subplot(gs[0, 0])\n",
    "\n",
    "    bg_color='#f7f7f7'\n",
    "    fig.patch.set_facecolor(bg_color)\n",
    "    ax0.set_facecolor(bg_color)\n",
    "\n",
    "    sns.heatmap(data=title_salary_c,\n",
    "                  cmap=edu_cmap, \n",
    "                  linewidths=0.2,\n",
    "                  linecolor='#f7f7f7',\n",
    "                  cbar=False,\n",
    "                  square=True, \n",
    "                  annot=True, \n",
    "                  fmt = 'd', \n",
    "                  annot_kws={'alpha': 0.5, 'fontsize': 9},\n",
    "                  ax=ax0)\n",
    "    ax0.set_ylabel(None)\n",
    "    ax0.set_xlabel(None)\n",
    "    ax0.text(0, -1, 'Distribution of Profession and Salary in {}'.format(country),\n",
    "             fontsize=16,\n",
    "             fontweight='bold')"
   ]
  },
  {
   "cell_type": "code",
   "execution_count": null,
   "metadata": {
    "_kg_hide-input": true
   },
   "outputs": [],
   "source": [
    "title_vs_salary('United States of America')"
   ]
  },
  {
   "cell_type": "code",
   "execution_count": null,
   "metadata": {
    "_kg_hide-input": true
   },
   "outputs": [],
   "source": [
    "title_vs_salary('India')"
   ]
  },
  {
   "cell_type": "markdown",
   "metadata": {},
   "source": [
    "There is a striking difference in salary distribution between USA and India. \n",
    "\n",
    "For all the education levels, respondents in USA earn much more than those in India in the same profession.\n",
    "\n",
    "Next, I'll explore the distribution of coding experience and salary:"
   ]
  },
  {
   "cell_type": "code",
   "execution_count": null,
   "metadata": {
    "_kg_hide-input": true
   },
   "outputs": [],
   "source": [
    "coding_salary = survey_2020.groupby(['Coding_exp', 'Salary']).size().unstack()[salary].reindex(coding[::-1]).fillna(0).astype(int)\n",
    "coding_salary_doct = survey_2020_doct.groupby(['Coding_exp', 'Salary']).size().unstack()[salary].reindex(coding[::-1]).fillna(0).astype(int)"
   ]
  },
  {
   "cell_type": "code",
   "execution_count": null,
   "metadata": {
    "_kg_hide-input": true
   },
   "outputs": [],
   "source": [
    "fig = plt.figure(figsize=[18, 10])\n",
    "gs=fig.add_gridspec(2, 1)\n",
    "ax0=fig.add_subplot(gs[0, 0])\n",
    "ax1=fig.add_subplot(gs[1, 0])\n",
    "\n",
    "bg_color='#f7f7f7'\n",
    "fig.patch.set_facecolor(bg_color)\n",
    "ax0.set_facecolor(bg_color)\n",
    "ax1.set_facecolor(bg_color)\n",
    "\n",
    "sns.heatmap(data=coding_salary_doct,\n",
    "                  cmap=edu_cmap, \n",
    "                  cbar=False,\n",
    "                  linewidths=0.2,\n",
    "                  linecolor='#f7f7f7',\n",
    "                  square=True, \n",
    "                  annot=True, \n",
    "                  fmt = 'd', \n",
    "                  annot_kws={'alpha': 0.5, 'fontsize': 9},\n",
    "                  zorder=2,\n",
    "                  ax=ax0)\n",
    "\n",
    "sns.heatmap(data=coding_salary,\n",
    "                  cmap=all_cmap1,\n",
    "                  cbar=False,\n",
    "                  linewidths=0.2, \n",
    "                  linecolor='#f7f7f7',\n",
    "                  square=True, \n",
    "                  annot=True, \n",
    "                  fmt = 'd', \n",
    "                  annot_kws={'alpha': 0.5, 'fontsize': 9},\n",
    "                  zorder=2,\n",
    "                  ax=ax1)\n",
    "\n",
    "\n",
    "ax0.set_xticks([])\n",
    "ax0.set_xlabel(None)\n",
    "ax1.set_xlabel(None)\n",
    "ax0.set_ylabel(None)\n",
    "ax1.set_ylabel(None)\n",
    "\n",
    "ax0.text(25.8, 2.5, 'Doctoral Degree',\n",
    "         fontsize=14,\n",
    "         fontweight='bold',\n",
    "         bbox=dict(facecolor=edu_color[2]))\n",
    "\n",
    "ax1.text(25.8, 2.5, 'All Education Levels',\n",
    "         fontsize=14,\n",
    "         fontweight='bold',\n",
    "         bbox=dict(facecolor='darkgreen', alpha=.5))\n",
    "\n",
    "ax0.text(0, -1, 'Distribution of Coding Experience and Salary',\n",
    "         fontsize=16,\n",
    "         fontweight='bold');"
   ]
  },
  {
   "cell_type": "markdown",
   "metadata": {},
   "source": [
    "**This is the distribution of coding experience and salary in respondents with Doctoral degree and in the whole population**\n",
    "\n",
    "Both plots showed the positive correlation between coding experience and salary. \n",
    "\n",
    "There are higher proportion of respondents with Doctoral degree with more coding experience and salary.\n",
    "\n",
    "Similarly, I'll plot the distribution of coding experience and salary by countries: USA and India."
   ]
  },
  {
   "cell_type": "code",
   "execution_count": null,
   "metadata": {
    "_kg_hide-input": true
   },
   "outputs": [],
   "source": [
    "def coding_vs_salary(country):\n",
    "    survey_2020_c = survey_2020[survey_2020['Country']==country].copy()\n",
    "    coding_salary_c = survey_2020_c.groupby(['Coding_exp', 'Salary']).size().unstack()[salary].reindex(coding[::-1]).fillna(0).astype(int)\n",
    "    \n",
    "    fig = plt.figure(figsize=[14, 8])\n",
    "    gs=fig.add_gridspec(1, 1)\n",
    "    ax0=fig.add_subplot(gs[0, 0])\n",
    "\n",
    "    bg_color='#f7f7f7'\n",
    "    fig.patch.set_facecolor(bg_color)\n",
    "    ax0.set_facecolor(bg_color)\n",
    "\n",
    "    sns.heatmap(data=coding_salary_c,\n",
    "                  cmap=edu_cmap, \n",
    "                  linewidths=0.2, \n",
    "                  linecolor='#f7f7f7',\n",
    "                  cbar=False,\n",
    "                  square=True, \n",
    "                  annot=True, \n",
    "                  fmt = 'd', \n",
    "                  annot_kws={'alpha': 0.5, 'fontsize': 9},\n",
    "                  ax=ax0)\n",
    "    ax0.set_xlabel(None)\n",
    "    ax0.set_ylabel(None)\n",
    "\n",
    "    ax0.text(0, -1, 'Distribution of Coding Experience and Salary in {}'.format(country),\n",
    "             fontsize=16,\n",
    "             fontweight='bold')"
   ]
  },
  {
   "cell_type": "code",
   "execution_count": null,
   "metadata": {
    "_kg_hide-input": true
   },
   "outputs": [],
   "source": [
    "coding_vs_salary('United States of America')"
   ]
  },
  {
   "cell_type": "code",
   "execution_count": null,
   "metadata": {
    "_kg_hide-input": true
   },
   "outputs": [],
   "source": [
    "coding_vs_salary('India')"
   ]
  },
  {
   "cell_type": "markdown",
   "metadata": {},
   "source": [
    "**The positive relationship between coding experience and salary exists in both countries**\n",
    "\n",
    "The distribution of coding experience varies in USA and India, partially explaining the differed distribution of salary in two countries: \n",
    "* Most of the respondents in US make more than \\\\$100,000 per year.\n",
    "* Majority of respondents in India earn less than \\\\$1000 per year.\n",
    "\n",
    "However, comparing the respondents with similar coding experience in two countries, such as 3-5 years, respondents in USA have higher salary.\n",
    "\n",
    "**These observations explained the accumulation of respondents in the salary range \\\\$0-999. However, it is not appropriate to compare the salary among countries directly, as the different economic development level, cost of living, et al. play important roles. The discussion on this topic will be interesting, though it requires additional data and is outside of the scope of this notebook.**"
   ]
  },
  {
   "cell_type": "markdown",
   "metadata": {},
   "source": [
    "<a id='q23'></a>\n",
    "## Roles at work"
   ]
  },
  {
   "cell_type": "code",
   "execution_count": null,
   "metadata": {
    "_kg_hide-input": true
   },
   "outputs": [],
   "source": [
    "def role(df):\n",
    "    role = df[df.columns[df.columns.str.contains(pat='Q23')]].copy()\n",
    "    role_list=[]\n",
    "    for i in range(1, 8):\n",
    "        role_name = role['Q23_Part_{}'.format(i)].dropna().value_counts().index[0]\n",
    "        role_count = role['Q23_Part_{}'.format(i)].dropna().count()\n",
    "        role_dict = {'role_name': role_name,\n",
    "                     'role_count': role_count}\n",
    "        role_list.append(role_dict)\n",
    "    role_list.append({'role_name': role['Q23_OTHER'].dropna().value_counts().index[0],\n",
    "                      'role_count': role['Q23_OTHER'].dropna().count()})\n",
    "    df_role = pd.DataFrame(role_list)\n",
    "    return df_role"
   ]
  },
  {
   "cell_type": "code",
   "execution_count": null,
   "metadata": {
    "_kg_hide-input": true
   },
   "outputs": [],
   "source": [
    "doct_role = role(survey_2020_doct).set_index('role_name')\n",
    "all_role = role(survey_2020).set_index('role_name')\n",
    "doct_role['role_count'] = doct_role['role_count'].apply(lambda x: x/doct_role.sum()*100)\n",
    "all_role['role_count'] = all_role['role_count'].apply(lambda x: -x/all_role.sum()*100)\n",
    "all_role = all_role.reset_index()\n",
    "doct_role = doct_role.reset_index()"
   ]
  },
  {
   "cell_type": "code",
   "execution_count": null,
   "metadata": {
    "_kg_hide-input": true
   },
   "outputs": [],
   "source": [
    "role_label = ['Analyze and understand \\n data to influence product \\n or business decisions',\n",
    "       'Build and/or run the data infrastructure \\n that my business uses for storing, \\n analyzing, and operationalizing data',\n",
    "       'Build prototypes to explore \\n applying machine learning \\n to new areas',\n",
    "       'Build and/or run a machine learning \\n service that operationally improves \\n my product or workflows',\n",
    "       'Experimentation and iteration \\n to improve existing ML models',\n",
    "       'Do research that \\n advances the state of the art \\n of machine learning',\n",
    "       'None of these activities \\n are an important part \\n of my role at work',\n",
    "       'Other']"
   ]
  },
  {
   "cell_type": "code",
   "execution_count": null,
   "metadata": {
    "_kg_hide-input": true
   },
   "outputs": [],
   "source": [
    "fig = plt.figure(figsize=[14, 8])\n",
    "gs = fig.add_gridspec(1, 1)\n",
    "ax0 = fig.add_subplot(gs[0, 0], ylim=[-30, 30])\n",
    "\n",
    "bg_color = '#f7f7f7'\n",
    "fig.patch.set_facecolor(bg_color)\n",
    "ax0.set_facecolor(bg_color)\n",
    "\n",
    "x=np.arange(8)\n",
    "ax0.bar(x, doct_role['role_count'], color=edu_color[7], edgecolor=(0, 0, 0), width=0.5, zorder=2, label='Doctoral degree')\n",
    "ax0.bar(x, all_role['role_count'], color='silver', edgecolor=(0, 0, 0), width=0.5, zorder=2, label='All')\n",
    "\n",
    "for i in all_role.index:\n",
    "    ax0.annotate('{:.2f}%'.format(-all_role['role_count'][i]),\n",
    "                xy=(i, all_role['role_count'][i]-1),\n",
    "                va='center',\n",
    "                ha='center',\n",
    "                fontsize=10,\n",
    "                alpha=.5)\n",
    "for j in doct_role.index:\n",
    "    ax0.annotate('{:.2f}%'.format(doct_role['role_count'][j]),\n",
    "                xy=(j, doct_role['role_count'][j]+1),\n",
    "                va='center',\n",
    "                ha='center',\n",
    "                fontsize=10,\n",
    "                alpha=.5)   \n",
    "    \n",
    "for s in ['top', 'left', 'right']:\n",
    "    ax0.spines[s].set_visible(False)   \n",
    "ax0.grid(which='major', axis='y', color='lightgrey', zorder=0)\n",
    "ax0.axhline(color='black', lw=1, ls=':')\n",
    "\n",
    "\n",
    "ax0.set_xticks(x)\n",
    "ax0.set_xticklabels(role_label, {'rotation': 60, 'fontsize': 10})\n",
    "\n",
    "\n",
    "yticks=[-20, -10, 0, 10, 20, 30]\n",
    "plt.yticks(yticks, np.abs(yticks))\n",
    "\n",
    "\n",
    "ax0.text(-1, 35,\n",
    "         'Distribution of Roles in Work in Doctoral Degree and All Education Levels (%)', \n",
    "          fontsize=16, \n",
    "          fontweight='bold')\n",
    "\n",
    "ax0.legend(title='Education Levels', \n",
    "           fontsize=9,\n",
    "           title_fontsize=10,\n",
    "           bbox_to_anchor=[1, 0.88], \n",
    "           loc='lower left',\n",
    "           framealpha=0);"
   ]
  },
  {
   "cell_type": "markdown",
   "metadata": {},
   "source": [
    "**This is the distribution of important roles at work of respondents with Doctoral degree and in the whole population**\n",
    "\n",
    "Compared with the whole population, respondents with Doctoral degree perform more machine learning-related works. \n",
    "\n",
    "Whether or not the respondents have Doctoral degree, their most common work is analyzing and understanding data for business decisions. "
   ]
  },
  {
   "cell_type": "markdown",
   "metadata": {},
   "source": [
    "<a id='conclusion'></a>\n",
    "## Conclusion"
   ]
  },
  {
   "cell_type": "markdown",
   "metadata": {},
   "source": [
    "After exploring this survey, I found that:\n",
    "\n",
    "- In the last three years, data science and machine learning practitioners with Doctoral degree are the third biggest population. \n",
    "- Majority (61.92%) of practitioners with Doctoral degree have coding experience longer than 5 years. \n",
    "- Their most common professions are research scientist (30.08%) and data scientist (20.05%). \n",
    "- Machine learning is an important topic of their work.\n",
    "\n",
    "For people planning to switch career after completing doctoral degree, machine learning could be an essential topic to learn and master. "
   ]
  },
  {
   "cell_type": "markdown",
   "metadata": {},
   "source": [
    "Thank you for reading my notebook. I'd appreciate it if you could share any feedback and give me an upvote. :)"
   ]
  }
 ],
 "metadata": {
  "celltoolbar": "幻灯片",
  "kernelspec": {
   "display_name": "Python 3",
   "language": "python",
   "name": "python3"
  },
  "language_info": {
   "codemirror_mode": {
    "name": "ipython",
    "version": 3
   },
   "file_extension": ".py",
   "mimetype": "text/x-python",
   "name": "python",
   "nbconvert_exporter": "python",
   "pygments_lexer": "ipython3",
   "version": "3.8.5"
  }
 },
 "nbformat": 4,
 "nbformat_minor": 4
}
